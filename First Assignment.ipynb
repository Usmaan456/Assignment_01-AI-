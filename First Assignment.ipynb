{
 "cells": [
  {
   "cell_type": "code",
   "execution_count": 1,
   "metadata": {},
   "outputs": [],
   "source": [
    "title=\"STUDENT BIO DATA\""
   ]
  },
  {
   "cell_type": "code",
   "execution_count": 2,
   "metadata": {},
   "outputs": [],
   "source": [
    "name=\"\""
   ]
  },
  {
   "cell_type": "code",
   "execution_count": 3,
   "metadata": {},
   "outputs": [],
   "source": [
    "fathername=\"RAIS MUNAWAR HUSSAIN\""
   ]
  },
  {
   "cell_type": "code",
   "execution_count": 4,
   "metadata": {},
   "outputs": [],
   "source": [
    "age=25"
   ]
  },
  {
   "cell_type": "code",
   "execution_count": 5,
   "metadata": {},
   "outputs": [],
   "source": [
    "qualification=\"Graduation\""
   ]
  },
  {
   "cell_type": "code",
   "execution_count": 6,
   "metadata": {},
   "outputs": [],
   "source": [
    "email=\"usman.munawar456@gmail.com\""
   ]
  },
  {
   "cell_type": "code",
   "execution_count": 7,
   "metadata": {},
   "outputs": [],
   "source": [
    "address=\"HOUSE# 126P,BLOCK02,P.E.C.H.S KARACHI\""
   ]
  },
  {
   "cell_type": "code",
   "execution_count": 8,
   "metadata": {},
   "outputs": [],
   "source": [
    "enrolled=\"ARTIFICIAL INTELLEGENCE(AI)\""
   ]
  },
  {
   "cell_type": "code",
   "execution_count": 9,
   "metadata": {},
   "outputs": [],
   "source": [
    "instructor=\"SIR UMAIR & MISS RAMSHA\""
   ]
  },
  {
   "cell_type": "code",
   "execution_count": 10,
   "metadata": {},
   "outputs": [],
   "source": [
    "uni=\"Sir Syed University of Engineering And Technology\""
   ]
  },
  {
   "cell_type": "code",
   "execution_count": 79,
   "metadata": {},
   "outputs": [
    {
     "name": "stdout",
     "output_type": "stream",
     "text": [
      "STUDENT BIO DATA\n",
      "Name:         Usman Munawar\n",
      "Father Name:  RAIS MUNAWAR HUSSAIN\n",
      "Age:          25 Years\n",
      "Education:    Graduation\n",
      "Email:        usman.munawar456@gmail.com\n",
      "Address:      HOUSE# 126P,BLOCK02,P.E.C.H.S KARACHI\n",
      "Course:       ARTIFICIAL INTELLEGENCE(AI)\n",
      "Instructors:  SIR UMAIR & MISS RAMSHA\n",
      "Institute:    Sir Syed University Of Engineering And Technology\n"
     ]
    }
   ],
   "source": [
    "print(title)\n",
    "print(\"Name:        \",name + \"\\nFather Name: \",fathername+\"\\nAge:         \"\n",
    ",age,\"Years\"+\"\\nEducation:   \",qualification+\"\\nEmail:       \",email+\"\\nAddress:     \",address+\n",
    "     \"\\nCourse:      \",enrolled+\"\\nInstructors: \",instructor+\"\\nInstitute:   \",uni)\n",
    "\n"
   ]
  },
  {
   "cell_type": "code",
   "execution_count": null,
   "metadata": {},
   "outputs": [],
   "source": []
  }
 ],
 "metadata": {
  "kernelspec": {
   "display_name": "Python 3",
   "language": "python",
   "name": "python3"
  },
  "language_info": {
   "codemirror_mode": {
    "name": "ipython",
    "version": 3
   },
   "file_extension": ".py",
   "mimetype": "text/x-python",
   "name": "python",
   "nbconvert_exporter": "python",
   "pygments_lexer": "ipython3",
   "version": "3.7.4"
  }
 },
 "nbformat": 4,
 "nbformat_minor": 2
}
